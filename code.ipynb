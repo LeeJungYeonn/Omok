{
  "nbformat": 4,
  "nbformat_minor": 0,
  "metadata": {
    "colab": {
      "provenance": []
    },
    "kernelspec": {
      "name": "python3",
      "display_name": "Python 3"
    },
    "language_info": {
      "name": "python"
    }
  },
  "cells": [
    {
      "cell_type": "markdown",
      "source": [
        "## AI응용수학 / HW1 / 2391019 이정연"
      ],
      "metadata": {
        "id": "dWzszOFO9Sff"
      }
    },
    {
      "cell_type": "code",
      "source": [
        "import numpy as np\n",
        "import matplotlib.pyplot as plt"
      ],
      "metadata": {
        "id": "bwzDf-VJ__pF"
      },
      "execution_count": 77,
      "outputs": []
    },
    {
      "cell_type": "markdown",
      "source": [
        "## \\# 5.2"
      ],
      "metadata": {
        "id": "LqfHbPJ79RaV"
      }
    },
    {
      "cell_type": "code",
      "execution_count": 78,
      "metadata": {
        "id": "mP7DpVJx8Wcq"
      },
      "outputs": [],
      "source": [
        "def Leebisect(func, xl, xu, Ead):\n",
        "    if func(xl) * func(xu) > 0:\n",
        "        return 'initial estimates do not bracket solution'\n",
        "\n",
        "    n = int(np.ceil(np.log2((xu-xl)/Ead)))\n",
        "    # 최초 iter를 0번째로 간주하므로 n+1을 해야 원하는 반복횟수 얻을 수 있다.\n",
        "    n += 1\n",
        "\n",
        "    xr = 0 ; xrold = 0 ; Ea = 100 ; ea = 100 # 초기화\n",
        "    for iter in range(n):\n",
        "        xr = (xl + xu) / 2\n",
        "\n",
        "        if func(xl) * func(xr) > 0:\n",
        "            xl = xr\n",
        "        else:\n",
        "            xu = xr\n",
        "\n",
        "        if iter != 0:\n",
        "            Ea = abs((xr - xrold)) / xr * 100\n",
        "            ea = (xr - xrold) / xr * 100\n",
        "        xrold = xr\n",
        "\n",
        "    root = xr\n",
        "\n",
        "    return root, Ea, ea, n"
      ]
    },
    {
      "cell_type": "markdown",
      "source": [
        "Solve # 5.1 by using # 5.2"
      ],
      "metadata": {
        "id": "rzKJ86cPDUs4"
      }
    },
    {
      "cell_type": "code",
      "source": [
        "def f(x):\n",
        "    m = 95 ; v = 46 ; t = 9 ; g = 9.81\n",
        "    return np.sqrt(g*m/x) * np.tanh(np.sqrt(g*x/m) * t) - v\n",
        "\n",
        "(x, Ea, ea, n) = Leebisect(f, 0.2, 0.5, 0.05)\n",
        "print(f'drag coefficient = {x} kg/m')\n",
        "print(f'approximate absolute error = {Ea:.4f} %')\n",
        "print(f'approximate relative error = {ea:.4f} %')\n",
        "print(f'iterations = {n}')"
      ],
      "metadata": {
        "colab": {
          "base_uri": "https://localhost:8080/"
        },
        "id": "nkQaqhrqDc8X",
        "outputId": "df6804ce-da68-482d-de8a-5f3d400bf5b4"
      },
      "execution_count": 79,
      "outputs": [
        {
          "output_type": "stream",
          "name": "stdout",
          "text": [
            "drag coefficient = 0.40625 kg/m\n",
            "approximate absolute error = 4.6154 %\n",
            "approximate relative error = 4.6154 %\n",
            "iterations = 4\n"
          ]
        }
      ]
    },
    {
      "cell_type": "markdown",
      "source": [
        "## \\# 5.6"
      ],
      "metadata": {
        "id": "m2QWr9nsMQql"
      }
    },
    {
      "cell_type": "code",
      "source": [
        "def Leeregfal(func, xl, xu, es, maxiter=30):\n",
        "    if func(xl) * func(xu) > 0:\n",
        "        return 'initial estimates do not bracket solution'\n",
        "\n",
        "    n = 0 ; xr = 0 ; xrold = 0 ; Ea = 100 ; ea = 100 # 초기화\n",
        "    for i in range(maxiter):\n",
        "        xr = (func(xu)*xl - func(xl)*xu) / (func(xu) - func(xl))\n",
        "\n",
        "        if func(xl) * func(xr) > 0:\n",
        "            xl = xr\n",
        "        else:\n",
        "            xu = xr\n",
        "\n",
        "        if i != 0:\n",
        "            Ea = abs((xr - xrold) / xr) * 100\n",
        "            ea = (xr - xrold) / xr * 100\n",
        "        xrold = xr\n",
        "\n",
        "        n += 1\n",
        "        if Ea < es: break\n",
        "\n",
        "    root = xr\n",
        "\n",
        "    return root, Ea, ea, n"
      ],
      "metadata": {
        "id": "0b21mgXjMXf_"
      },
      "execution_count": 80,
      "outputs": []
    },
    {
      "cell_type": "markdown",
      "source": [
        "Solve # 5.1 by using # 5.6"
      ],
      "metadata": {
        "id": "6vGvKUwjMX3J"
      }
    },
    {
      "cell_type": "code",
      "source": [
        "def f(x):\n",
        "    m = 95 ; v = 46 ; t = 9 ; g = 9.81\n",
        "    return np.sqrt(g*m/x) * np.tanh(np.sqrt(g*x/m) * t) - v\n",
        "\n",
        "(x, Ea, ea, n) = Leeregfal(f, 0.2, 0.5, 5)\n",
        "print(f'drag coefficient = {x:.5f} kg/m')\n",
        "print(f'approximate absolute error = {Ea:.4f} %')\n",
        "print(f'approximate relative error = {ea:.4f} %')\n",
        "print(f'iterations = {n}')"
      ],
      "metadata": {
        "colab": {
          "base_uri": "https://localhost:8080/"
        },
        "id": "6XscChk7Ox87",
        "outputId": "037d4091-267b-4fd5-f297-ff092bfafb39"
      },
      "execution_count": 81,
      "outputs": [
        {
          "output_type": "stream",
          "name": "stdout",
          "text": [
            "drag coefficient = 0.39875 kg/m\n",
            "approximate absolute error = 1.4046 %\n",
            "approximate relative error = -1.4046 %\n",
            "iterations = 3\n"
          ]
        }
      ]
    },
    {
      "cell_type": "markdown",
      "source": [
        "bisect (#5.2)와 regfal (#5.6) 비교\n",
        "\n",
        "-> 가위치법이 이분법보다 수렴이 빨랐다."
      ],
      "metadata": {
        "id": "eCk4PeGFUM-a"
      }
    },
    {
      "cell_type": "markdown",
      "source": [
        "## \\# 6.5"
      ],
      "metadata": {
        "id": "iqLy1Pe8Uvj9"
      }
    },
    {
      "cell_type": "markdown",
      "source": [
        "(a) Newton-Raphson method"
      ],
      "metadata": {
        "id": "MjEtvmKmVaZs"
      }
    },
    {
      "cell_type": "code",
      "source": [
        "def newtraph(f, fp, x0, es, maxit=30):\n",
        "    for i in range(maxit):\n",
        "        x1 = x0 - f(x0)/fp(x0)\n",
        "        ea = abs((x1-x0)/x1)*100\n",
        "        if ea < es: break\n",
        "        x0 = x1\n",
        "    return x1, ea, i+1"
      ],
      "metadata": {
        "id": "7dV41yaBU95A"
      },
      "execution_count": 82,
      "outputs": []
    },
    {
      "cell_type": "code",
      "source": [
        "def f(x): return x**5 -16.05*x**4 +88.75*x**3 -192.0375*x**2 +116.35*x + 31.6875\n",
        "def fp(x): return 5*x**4 -4*16.05*x**3 +3*88.75*x**2 -2*192.0375*x +116.35\n",
        "\n",
        "x0 = 0.5825\n",
        "x, ea, n = newtraph(f, fp, x0, es=0.01)\n",
        "print(f'root = {x:.1f}')\n",
        "print(f'approximate absolute error = {ea:.5f} %')\n",
        "print(f'iterations = {n}')"
      ],
      "metadata": {
        "colab": {
          "base_uri": "https://localhost:8080/"
        },
        "id": "D0_Ed59Rm18Z",
        "outputId": "622c6f62-a407-4ee6-e0a3-7772e9f1403e"
      },
      "execution_count": 83,
      "outputs": [
        {
          "output_type": "stream",
          "name": "stdout",
          "text": [
            "root = 6.5\n",
            "approximate absolute error = 0.00027 %\n",
            "iterations = 22\n"
          ]
        }
      ]
    },
    {
      "cell_type": "markdown",
      "source": [
        "(b) modified secant method"
      ],
      "metadata": {
        "id": "7SbiLMK7Ve_G"
      }
    },
    {
      "cell_type": "code",
      "source": [
        "def modsec(f, x0, d, es, maxit=30):\n",
        "    for i in range(maxit):\n",
        "        x1 = x0 - (d*x0*f(x0))/(f(x0+d*x0)-f(x0))\n",
        "        ea = abs((x1-x0)/x1)*100\n",
        "        if ea < es: break\n",
        "        x0 = x1\n",
        "    return x1, ea, i+1"
      ],
      "metadata": {
        "id": "MNaaNr79ViO8"
      },
      "execution_count": 84,
      "outputs": []
    },
    {
      "cell_type": "code",
      "source": [
        "def f(x): return x**5 -16.05*x**4 +88.75*x**3 -192.0375*x**2 +116.35*x + 31.6875\n",
        "\n",
        "x0 = 0.5825\n",
        "x, ea, n = modsec(f, x0, d=0.2, es=0.01)\n",
        "print(f'root = {x:.1f}')\n",
        "print(f'approximate absolute error = {ea:.5f} %')\n",
        "print(f'iterations = {n}')"
      ],
      "metadata": {
        "colab": {
          "base_uri": "https://localhost:8080/"
        },
        "id": "3K4yptEmwfSt",
        "outputId": "a6d1c628-9341-4e3c-d3e9-6eadb393265c"
      },
      "execution_count": 85,
      "outputs": [
        {
          "output_type": "stream",
          "name": "stdout",
          "text": [
            "root = -0.2\n",
            "approximate absolute error = 0.00796 %\n",
            "iterations = 8\n"
          ]
        }
      ]
    },
    {
      "cell_type": "markdown",
      "source": [
        "(c) find all the roots"
      ],
      "metadata": {
        "id": "XA8KEbjnVi2l"
      }
    },
    {
      "cell_type": "code",
      "source": [
        "a = [ 1, -16.05, 88.75, -192.0375, 116.35, 31.6875 ]\n",
        "r = np.roots(a)\n",
        "\n",
        "print('roots : ', end='')\n",
        "for i in range(len(r)):\n",
        "    print('{:.2f}'.format(r[i]), end='   ')"
      ],
      "metadata": {
        "id": "9lyj_IjZVmse",
        "colab": {
          "base_uri": "https://localhost:8080/"
        },
        "outputId": "faf64ae9-83c2-48f6-8149-c71ea725d6a8"
      },
      "execution_count": 86,
      "outputs": [
        {
          "output_type": "stream",
          "name": "stdout",
          "text": [
            "roots : 6.50   5.00   3.25   1.50   -0.20   "
          ]
        }
      ]
    },
    {
      "cell_type": "markdown",
      "source": [
        "Analyze why (a) and (b) found the root that they did.\n",
        "\n",
        "-> (pdf 파일에)"
      ],
      "metadata": {
        "id": "uUIq2dYlVm-6"
      }
    },
    {
      "cell_type": "code",
      "source": [
        "def f(x): return x**5 -16.05*x**4 +88.75*x**3 -192.0375*x**2 +116.35*x + 31.6875\n",
        "def fp(f, x):\n",
        "    h = 1e-4\n",
        "    return (f(x+h) - f(x-h)) / (2*h)\n",
        "\n",
        "def tangentline(f, x): # 접선의 방정식 구하는 함수\n",
        "    d = fp(f, x)\n",
        "    y = f(x) - d*x\n",
        "    return lambda t: d*t + y\n",
        "\n",
        "x = np.linspace(-0.5, 7)\n",
        "y = f(x)\n",
        "tf = tangentline(f, 0.5825)\n",
        "y2 = tf(x)\n",
        "\n",
        "plt.plot(x, y)\n",
        "plt.plot(x, y2)\n",
        "plt.title('Newton-Raphson method')\n",
        "plt.axhline(y=0, color='black')\n",
        "plt.grid()\n",
        "plt.show()"
      ],
      "metadata": {
        "id": "yV_D4XmWVsin",
        "colab": {
          "base_uri": "https://localhost:8080/",
          "height": 452
        },
        "outputId": "fadb77e6-6361-4948-ad71-ebd75f42e314"
      },
      "execution_count": 87,
      "outputs": [
        {
          "output_type": "display_data",
          "data": {
            "text/plain": [
              "<Figure size 640x480 with 1 Axes>"
            ],
            "image/png": "[encoded data removed]"
          },
          "metadata": {}
        }
      ]
    },
    {
      "cell_type": "code",
      "source": [
        "def f(x): return x**5 -16.05*x**4 +88.75*x**3 -192.0375*x**2 +116.35*x + 31.6875\n",
        "\n",
        "x = np.linspace(-1.5, 2.5)\n",
        "y = f(x)\n",
        "\n",
        "plt.plot(x, y)\n",
        "plt.title('Modified secant method')\n",
        "plt.axhline(y=0, color='black')\n",
        "plt.grid()\n",
        "plt.show()"
      ],
      "metadata": {
        "colab": {
          "base_uri": "https://localhost:8080/",
          "height": 452
        },
        "id": "vTgsV3gfjLEA",
        "outputId": "5ce0b7c3-6428-480b-e38d-373db96af9be"
      },
      "execution_count": 88,
      "outputs": [
        {
          "output_type": "display_data",
          "data": {
            "text/plain": [
              "<Figure size 640x480 with 1 Axes>"
            ],
            "image/png": "[encoded data removed]"
          },
          "metadata": {}
        }
      ]
    },
    {
      "cell_type": "markdown",
      "source": [
        "## \\# 6.31"
      ],
      "metadata": {
        "id": "zL-DJWEq_GlS"
      }
    },
    {
      "cell_type": "markdown",
      "source": [
        "(a) modified secant method"
      ],
      "metadata": {
        "id": "NeSADktYAVVj"
      }
    },
    {
      "cell_type": "code",
      "source": [
        "def modsec(func, x0, d, es=1e-7, maxit=30):\n",
        "    for i in range(maxit):\n",
        "        x1 = x0 - (d*x0*func(x0))/(func(x0+d*x0)-func(x0))\n",
        "        ea = abs((x1-x0)/x1)\n",
        "        if ea < es: break\n",
        "        x0 = x1\n",
        "    return x1, ea, i+1"
      ],
      "metadata": {
        "id": "hTou6DJF_LZ8"
      },
      "execution_count": 89,
      "outputs": []
    },
    {
      "cell_type": "code",
      "source": [
        "def f(hh):\n",
        "    hw = 0.8 ; bw = 8 ; qw = 1.3 ; g = 9.81\n",
        "    cw = 1.125 * np.sqrt( ((1+hh)/hw) / ((2+hh)/hw) )\n",
        "    return cw * bw * np.sqrt(g) * ((2/3*hh)**(3/2)) - qw\n",
        "\n",
        "hw = 0.8\n",
        "h0 = 1.5*hw\n",
        "hh0 = h0 - hw\n",
        "hh, ea, n = modsec(f, hh0, d=1e-5)\n",
        "\n",
        "h = hh + hw\n",
        "\n",
        "print(f'H = {h:.3f}')\n",
        "print(f'approximate absolute error = {ea:.3e}')\n",
        "print(f'iterations = {n}')"
      ],
      "metadata": {
        "colab": {
          "base_uri": "https://localhost:8080/"
        },
        "id": "5DN3ybd8AjWf",
        "outputId": "dc7089e8-196b-4144-8593-6975b0d8a953"
      },
      "execution_count": 90,
      "outputs": [
        {
          "output_type": "stream",
          "name": "stdout",
          "text": [
            "H = 1.035\n",
            "approximate absolute error = 3.820e-12\n",
            "iterations = 5\n"
          ]
        }
      ]
    },
    {
      "cell_type": "markdown",
      "source": [
        "(b) Wegstein method"
      ],
      "metadata": {
        "id": "xY2CVSYWFA1F"
      }
    },
    {
      "cell_type": "code",
      "source": [
        "def wegstein(g, x0, x1, es=1e-7, maxit=30):\n",
        "    for i in range(maxit):\n",
        "        x2 = (x1*g(x0)-x0*g(x1)) / (x1-x0-g(x1)+g(x0))\n",
        "        ea = abs((x1-x0)/x1)\n",
        "        if ea < es: break\n",
        "        x0 = x1\n",
        "        x1 = x2\n",
        "    return x2, ea, i+1"
      ],
      "metadata": {
        "id": "OcLWoRYfFEVD"
      },
      "execution_count": 91,
      "outputs": []
    },
    {
      "cell_type": "code",
      "source": [
        "def f(hh):\n",
        "    hw = 0.8 ; bw = 8 ; qw = 1.3 ; g = 9.81\n",
        "    cw = 1.125 * np.sqrt( ((1+hh)/hw) / ((2+hh)/hw) )\n",
        "    return 1.5 * ((qw/(cw*bw*np.sqrt(g)))**(2/3))\n",
        "\n",
        "hw = 0.8\n",
        "h0 = 1.01*hw\n",
        "h1 = 1.4*hw\n",
        "hh0 = h0 - hw\n",
        "hh1 = h1 - hw\n",
        "\n",
        "hh, ea, n = wegstein(f, hh0, hh1)\n",
        "\n",
        "h = hh + hw\n",
        "\n",
        "print(f'H = {h:.3f}')\n",
        "print(f'approximate absolute error = {ea:.3e}')\n",
        "print(f'iterations = {n}')"
      ],
      "metadata": {
        "colab": {
          "base_uri": "https://localhost:8080/"
        },
        "id": "qVPXzQczH4pI",
        "outputId": "341f364d-8448-4f32-a1c5-cea64b1171ae"
      },
      "execution_count": 92,
      "outputs": [
        {
          "output_type": "stream",
          "name": "stdout",
          "text": [
            "H = 1.035\n",
            "approximate absolute error = 2.086e-11\n",
            "iterations = 5\n"
          ]
        }
      ]
    },
    {
      "cell_type": "markdown",
      "source": [
        "(c) `brentq` function from Pyton's SciPy module"
      ],
      "metadata": {
        "id": "GLGCqwuZIxlB"
      }
    },
    {
      "cell_type": "code",
      "source": [
        "from scipy.optimize import brentq"
      ],
      "metadata": {
        "id": "WTRKrc-0I8Bc"
      },
      "execution_count": 93,
      "outputs": []
    },
    {
      "cell_type": "code",
      "source": [
        "def f(hh):\n",
        "    hw = 0.8 ; bw = 8 ; qw = 1.3 ; g = 9.81\n",
        "    cw = 1.125 * np.sqrt( ((1+hh)/hw) / ((2+hh)/hw) )\n",
        "    return cw * bw * np.sqrt(g) * ((2/3*hh)**(3/2)) - qw\n",
        "\n",
        "hw = 0.8\n",
        "hh0 = (1.01-1)*hw\n",
        "hh1 = (1.4-1)*hw\n",
        "\n",
        "hh = brentq(f, hh0, hh1, maxiter=30, full_output=True)\n",
        "\n",
        "print(hh)\n",
        "\n",
        "h = hh[0] + hw\n",
        "\n",
        "print(f'H_h = {hh[0]:.3f}')\n",
        "print(f' H  = {h:.3f}')"
      ],
      "metadata": {
        "colab": {
          "base_uri": "https://localhost:8080/"
        },
        "id": "RjwkxdEiJF-z",
        "outputId": "e5581789-7ed3-4390-dc10-1e2db819b651"
      },
      "execution_count": 94,
      "outputs": [
        {
          "output_type": "stream",
          "name": "stdout",
          "text": [
            "(0.23507252465320705,       converged: True\n",
            "           flag: converged\n",
            " function_calls: 8\n",
            "     iterations: 7\n",
            "           root: 0.23507252465320705)\n",
            "H_h = 0.235\n",
            " H  = 1.035\n"
          ]
        }
      ]
    },
    {
      "cell_type": "markdown",
      "source": [
        "Would you expect this problem to be convergent for fixed-point iteration? Explain.\n",
        "\n",
        "-> (pdf 파일에)"
      ],
      "metadata": {
        "id": "L54bRFJomLLr"
      }
    },
    {
      "cell_type": "markdown",
      "source": [
        "## \\# 7.9"
      ],
      "metadata": {
        "id": "AgmqbhylmTJT"
      }
    },
    {
      "cell_type": "markdown",
      "source": [
        "(a) Golden-section search"
      ],
      "metadata": {
        "id": "uIM0GR6wmbNv"
      }
    },
    {
      "cell_type": "code",
      "source": [
        "def goldmin(f, xl, xu, es, maxit=30):\n",
        "    phi = (1+np.sqrt(5)) / 2\n",
        "    d = (phi-1) * (xu-xl)\n",
        "    x1 = xl + d ; f1 = f(x1)\n",
        "    x2 = xu - d ; f2 = f(x2)\n",
        "\n",
        "    ea = 100 # 초기화\n",
        "    for i in range(maxit):\n",
        "        xint = xu - xl\n",
        "        if f1 < f2:\n",
        "            xopt = x1\n",
        "            xl = x2\n",
        "            x2 = x1\n",
        "            f2 = f1\n",
        "            x1 = xl + (phi-1)*(xu-xl)\n",
        "            f1 = f(x1)\n",
        "        else:\n",
        "            xopt = x2\n",
        "            xu = x1\n",
        "            x1 = x2\n",
        "            f1 = f2\n",
        "            x2 = xu - (phi-1)*(xu-xl)\n",
        "            f2 = f(x2)\n",
        "\n",
        "        if xopt != 0:\n",
        "            ea = (2-phi)*abs(xint/xopt) * 100\n",
        "            if ea <= es: break\n",
        "\n",
        "    return xopt, f(xopt), ea, i+1"
      ],
      "metadata": {
        "id": "qxlt7ttjmYrq"
      },
      "execution_count": 95,
      "outputs": []
    },
    {
      "cell_type": "code",
      "source": [
        "def f(x) : return x**4 + 2*x**3 + 8*x**2 + 5*x\n",
        "\n",
        "xopt, f_xopt, ea, n = goldmin(f, -2, 1, es=1)\n",
        "print(f'Value at minimum function value = {xopt:.4f} ')\n",
        "print(f'Minimum function value = {f_xopt:.4f} ')\n",
        "print(f'Relative error = {ea:.4f} %')\n",
        "print(f'Iterations = {n}')"
      ],
      "metadata": {
        "colab": {
          "base_uri": "https://localhost:8080/"
        },
        "id": "Dc4aLzc4ugfR",
        "outputId": "9a27f6c9-6c37-48d8-e4d6-7a72b168d9dd"
      },
      "execution_count": 96,
      "outputs": [
        {
          "output_type": "stream",
          "name": "stdout",
          "text": [
            "Value at minimum function value = -0.3468 \n",
            "Minimum function value = -0.8408 \n",
            "Relative error = 0.6342 %\n",
            "Iterations = 14\n"
          ]
        }
      ]
    },
    {
      "cell_type": "markdown",
      "source": [
        "(b) Parabolic interpolation"
      ],
      "metadata": {
        "id": "KSdjWwNzwIwM"
      }
    },
    {
      "cell_type": "code",
      "source": [
        "def interpolmin(f, x1, x2, x3, maxit):\n",
        "    x2old = x2 # 초기화\n",
        "    for i in range(maxit):\n",
        "        f1 = f(x1) ; f2 = f(x2) ; f3 = f(x3)\n",
        "        x4 = x2 - 0.5 * (((x2-x1)**2 * (f2-f3) - (x2-x3)**2 * (f2 - f1)) / ((x2-x1) * (f2-f3) - (x2-x3) * (f2-f1)))\n",
        "        f4 = f(x4)\n",
        "\n",
        "        if x2 < x4 < x3:\n",
        "            if f4 < f2:\n",
        "                x1 = x2\n",
        "                x2 = x4\n",
        "            else:\n",
        "                x3 = x4\n",
        "        else:\n",
        "            if f4 < f2:\n",
        "                x3 = x2\n",
        "                x2 = x4\n",
        "            else:\n",
        "                x1 = x4\n",
        "\n",
        "        ea = abs((x2-x2old)/x2) * 100\n",
        "        x2old = x2\n",
        "\n",
        "    return x2, f(x2), ea, i+1"
      ],
      "metadata": {
        "id": "eS7-_EpcwM2t"
      },
      "execution_count": 97,
      "outputs": []
    },
    {
      "cell_type": "code",
      "source": [
        "def f(x) : return x**4 + 2*x**3 + 8*x**2 + 5*x\n",
        "\n",
        "xopt, f_xopt, ea, n = goldmin(f, -2, -1, 1, maxit=5)\n",
        "print(f'Value at minimum function value = {xopt:.4f} ')\n",
        "print(f'Minimum function value = {f_xopt:.4f} ')\n",
        "print(f'Relative error = {ea:.4f} %')\n",
        "print(f'Iterations = {n}')"
      ],
      "metadata": {
        "colab": {
          "base_uri": "https://localhost:8080/"
        },
        "id": "zx4rpM8hyajK",
        "outputId": "b9fe285f-f458-48e7-e686-5cc2c0a09742"
      },
      "execution_count": 98,
      "outputs": [
        {
          "output_type": "stream",
          "name": "stdout",
          "text": [
            "Value at minimum function value = -1.0557 \n",
            "Minimum function value = 2.5268 \n",
            "Relative error = 5.2786 %\n",
            "Iterations = 5\n"
          ]
        }
      ]
    },
    {
      "cell_type": "code",
      "source": [
        "x = np.linspace(-2, 1)\n",
        "plt.plot(x, f(x))\n",
        "plt.yticks(np.arange(-2,21))\n",
        "plt.grid()\n",
        "plt.show()"
      ],
      "metadata": {
        "colab": {
          "base_uri": "https://localhost:8080/",
          "height": 430
        },
        "id": "KpnNHbsw9hI9",
        "outputId": "dd14f3de-9602-4366-c321-f77ede046459"
      },
      "execution_count": 99,
      "outputs": [
        {
          "output_type": "display_data",
          "data": {
            "text/plain": [
              "<Figure size 640x480 with 1 Axes>"
            ],
            "image/png": "[encoded data removed]"
          },
          "metadata": {}
        }
      ]
    },
    {
      "cell_type": "markdown",
      "source": [
        "## \\# 7.27"
      ],
      "metadata": {
        "id": "BV49-U4i86De"
      }
    },
    {
      "cell_type": "markdown",
      "source": [
        "Determine the location of the minimum\n",
        "\n",
        "(a) graphically, using a contour plot"
      ],
      "metadata": {
        "id": "O4OP7vXj-w0i"
      }
    },
    {
      "cell_type": "code",
      "source": [
        "x = np.linspace(-10, 10, 100)\n",
        "y = np.linspace(-10, 10, 100)\n",
        "X,Y = np.meshgrid(x,y)\n",
        "Z = -8*X + X**2 + 12*Y + 4*Y**2 -2*X*Y\n",
        "\n",
        "fig = plt.figure()\n",
        "ax = fig.add_subplot(111)\n",
        "ax.contour(X,Y,Z)\n",
        "ax.set_xlabel('x')\n",
        "ax.set_ylabel('y')\n",
        "ax.grid()\n",
        "plt.show()"
      ],
      "metadata": {
        "colab": {
          "base_uri": "https://localhost:8080/",
          "height": 455
        },
        "id": "yov5NQ_2-vk-",
        "outputId": "7736418a-c486-4513-fa35-8de714324745"
      },
      "execution_count": 100,
      "outputs": [
        {
          "output_type": "display_data",
          "data": {
            "text/plain": [
              "<Figure size 640x480 with 1 Axes>"
            ],
            "image/png": "[encoded data removed]"
          },
          "metadata": {}
        }
      ]
    },
    {
      "cell_type": "markdown",
      "source": [
        "(b) using the minimize function from the Scipy `optimize` module."
      ],
      "metadata": {
        "id": "9GLAONGV-yfF"
      }
    },
    {
      "cell_type": "code",
      "source": [
        "from scipy.optimize import minimize"
      ],
      "metadata": {
        "id": "9JMY0IDK-8SE"
      },
      "execution_count": 101,
      "outputs": []
    },
    {
      "cell_type": "code",
      "source": [
        "def f(X):\n",
        "    x = X[0]\n",
        "    y = X[1]\n",
        "    return -8*x + x**2 + 12*y + 4*y**2 -2*x*y\n",
        "\n",
        "x0 = [0,0]\n",
        "result = minimize(f, x0, options={'disp':True})\n",
        "xmin = result.x\n",
        "print(xmin)"
      ],
      "metadata": {
        "colab": {
          "base_uri": "https://localhost:8080/"
        },
        "id": "brOCoCdgCBFI",
        "outputId": "9f913589-74c0-434b-d313-c977b59c5713"
      },
      "execution_count": 102,
      "outputs": [
        {
          "output_type": "stream",
          "name": "stdout",
          "text": [
            "Optimization terminated successfully.\n",
            "         Current function value: -17.333333\n",
            "         Iterations: 6\n",
            "         Function evaluations: 21\n",
            "         Gradient evaluations: 7\n",
            "[ 3.33333292 -0.66666681]\n"
          ]
        }
      ]
    }
  ]
}